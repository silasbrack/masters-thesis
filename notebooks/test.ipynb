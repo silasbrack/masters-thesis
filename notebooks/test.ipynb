{
 "cells": [
  {
   "cell_type": "code",
   "execution_count": null,
   "metadata": {},
   "outputs": [],
   "source": [
    "import pandas as pd\n",
    "import matplotlib.pyplot as plt\n",
    "import seaborn as sns\n",
    "\n",
    "from visualization.colors import Color\n",
    "from visualization.scaling import AspectRatio, compute_figsize, PlotWidth"
   ]
  },
  {
   "cell_type": "code",
   "execution_count": null,
   "metadata": {},
   "outputs": [],
   "source": [
    "df = pd.read_csv(\"results/hessian_profile.csv\", header=None, names=[\"d\", \"hvp\", \"gvp\", \"manual\", \"hvp-inv\", \"gvp-inv\", \"manual-inv\"])\n",
    "df[[\"hvp\", \"gvp\", \"manual\", \"hvp-inv\", \"gvp-inv\", \"manual-inv\"]] = df[[\"hvp\", \"gvp\", \"manual\", \"hvp-inv\", \"gvp-inv\", \"manual-inv\"]] * 1000"
   ]
  },
  {
   "cell_type": "code",
   "execution_count": null,
   "metadata": {},
   "outputs": [],
   "source": [
    "df"
   ]
  },
  {
   "cell_type": "code",
   "execution_count": null,
   "metadata": {},
   "outputs": [],
   "source": [
    "fig, ax = plt.subplots(nrows=2, sharex=True, figsize=compute_figsize(PlotWidth.MARGIN, AspectRatio.FOUR_BY_THREE, nrow=2))\n",
    "sns.lineplot(data=df.assign(ratio=df[\"hvp\"] / df[\"gvp\"]), x=\"d\", y=\"ratio\", color=Color.KAO_GREEN.value, label=\"Speedup\", ax=ax[0])\n",
    "ax[0].set(\n",
    "    xlabel=\"Number of parameters\",\n",
    "    # ylabel=\"Speedup\",\n",
    "    ylabel=None,\n",
    "    xscale=\"log\",\n",
    ")\n",
    "sns.lineplot(data=df.assign(ratio=df[\"hvp-inv\"] / df[\"gvp-inv\"]), x=\"d\", y=\"ratio\", color=Color.KAO_GREEN.value, label=\"Speedup for inverse\", ax=ax[1])\n",
    "ax[1].set(\n",
    "    xlabel=\"Number of parameters\",\n",
    "    # ylabel=\"Speedup\",\n",
    "    ylabel=None,\n",
    "    xscale=\"log\",\n",
    ")\n",
    "# ax[0].get_legend().remove()\n",
    "# ax[1].get_legend().remove()\n",
    "fig.savefig(\"results/hessian_profile_ratios.pdf\", bbox_inches=\"tight\")"
   ]
  },
  {
   "cell_type": "code",
   "execution_count": null,
   "metadata": {},
   "outputs": [],
   "source": [
    "fig, ax = plt.subplots(ncols=2, figsize=compute_figsize(PlotWidth.TEXT, AspectRatio.FOUR_BY_THREE, ncol=2))\n",
    "sns.lineplot(x=\"d\", y=\"hvp\", data=df, ax=ax[0], label=\"HVP\")\n",
    "sns.lineplot(x=\"d\", y=\"gvp\", data=df, ax=ax[0], label=\"GVP\")\n",
    "sns.lineplot(x=\"d\", y=\"manual\", data=df.query(\"manual.notna()\"), ax=ax[0], label=\"Manual\")\n",
    "sns.lineplot(x=\"d\", y=\"hvp-inv\", data=df, ax=ax[1], label=\"CG-HVP\")\n",
    "sns.lineplot(x=\"d\", y=\"gvp-inv\", data=df, ax=ax[1], label=\"CG-GVP\")\n",
    "sns.lineplot(x=\"d\", y=\"manual-inv\", data=df.query(\"`manual-inv`.notna()\"), ax=ax[1], label=\"Manual inverse\")\n",
    "# df.plot(x=\"d\", y=[\"hvp\", \"gvp\", \"manual\"], marker=\"o\", linestyle=\"None\", logx=True, ax=ax[0])\n",
    "# df.plot(x=\"d\", y=[\"hvp-inv\", \"gvp-inv\", \"manual-inv\"], marker=\"o\", linestyle=\"None\", logx=True, ax=ax[1])\n",
    "ax[0].set(\n",
    "    xlabel=\"Number of parameters\",\n",
    "    ylabel=\"Wall time (ms)\",\n",
    "    xscale=\"log\",\n",
    ")\n",
    "ax[1].set(\n",
    "    xlabel=\"Number of parameters\",\n",
    "    ylabel=None,\n",
    "    xscale=\"log\",\n",
    ")"
   ]
  },
  {
   "cell_type": "code",
   "execution_count": null,
   "metadata": {},
   "outputs": [],
   "source": [
    "fig, ax = plt.subplots(ncols=2, figsize=compute_figsize(PlotWidth.FULL, AspectRatio.GOLDEN, ncol=2))\n",
    "sns.lineplot(x=\"d\", y=\"hvp\", data=df, ax=ax[0], label=\"HVP\")\n",
    "sns.lineplot(x=\"d\", y=\"gvp\", data=df, ax=ax[0], label=\"GVP\")\n",
    "sns.lineplot(x=\"d\", y=\"manual\", data=df.query(\"manual.notna()\"), ax=ax[0], label=\"Manual\")\n",
    "sns.lineplot(x=\"d\", y=\"hvp-inv\", data=df, ax=ax[1], label=\"CG-HVP\")\n",
    "sns.lineplot(x=\"d\", y=\"gvp-inv\", data=df, ax=ax[1], label=\"CG-GVP\")\n",
    "sns.lineplot(x=\"d\", y=\"manual-inv\", data=df.query(\"`manual-inv`.notna()\"), ax=ax[1], label=\"Manual inverse\")\n",
    "ax[0].set(\n",
    "    xlabel=\"Number of parameters\",\n",
    "    ylabel=\"Wall time (ms)\",\n",
    "    xscale=\"log\",\n",
    ")\n",
    "ax[1].set(\n",
    "    xlabel=\"Number of parameters\",\n",
    "    ylabel=None,\n",
    "    xscale=\"log\",\n",
    ")"
   ]
  },
  {
   "cell_type": "code",
   "execution_count": null,
   "metadata": {},
   "outputs": [],
   "source": [
    "fig, ax = plt.subplots(nrows=2, sharex=True, figsize=compute_figsize(PlotWidth.MARGIN, AspectRatio.FOUR_BY_THREE, nrow=2))\n",
    "sns.lineplot(x=\"d\", y=\"hvp\", data=df, ax=ax[0], label=\"HVP\")\n",
    "sns.lineplot(x=\"d\", y=\"gvp\", data=df, ax=ax[0], label=\"GVP\")\n",
    "sns.lineplot(x=\"d\", y=\"manual\", data=df.query(\"manual.notna()\"), ax=ax[0], label=\"Manual\")\n",
    "sns.lineplot(x=\"d\", y=\"hvp-inv\", data=df, ax=ax[1], label=\"CG-HVP\")\n",
    "sns.lineplot(x=\"d\", y=\"gvp-inv\", data=df, ax=ax[1], label=\"CG-GVP\")\n",
    "sns.lineplot(x=\"d\", y=\"manual-inv\", data=df.query(\"`manual-inv`.notna()\"), ax=ax[1], label=\"Manual inverse\")\n",
    "ax[0].set(\n",
    "    xlabel=None,\n",
    "    ylabel=\"Wall time (ms)\",\n",
    "    xscale=\"log\",\n",
    ")\n",
    "ax[1].set(\n",
    "    xlabel=\"Number of parameters\",\n",
    "    ylabel=\"Wall time (ms)\",\n",
    "    xscale=\"log\",\n",
    ")\n",
    "ax[1].get_legend().remove()\n",
    "fig.savefig(\"results/hessian_profile.pdf\", bbox_inches=\"tight\")\n",
    "fig.savefig(\"results/hessian_profile.png\", bbox_inches=\"tight\")"
   ]
  },
  {
   "cell_type": "code",
   "execution_count": null,
   "metadata": {},
   "outputs": [],
   "source": []
  }
 ],
 "metadata": {
  "kernelspec": {
   "display_name": "venv",
   "language": "python",
   "name": "python3"
  },
  "language_info": {
   "codemirror_mode": {
    "name": "ipython",
    "version": 3
   },
   "file_extension": ".py",
   "mimetype": "text/x-python",
   "name": "python",
   "nbconvert_exporter": "python",
   "pygments_lexer": "ipython3",
   "version": "3.10.6"
  },
  "vscode": {
   "interpreter": {
    "hash": "c8854294cd4cc58367b6b01c023bac34139e2b55b2ecd0f9945eb96bf9232a0a"
   }
  }
 },
 "nbformat": 4,
 "nbformat_minor": 2
}
